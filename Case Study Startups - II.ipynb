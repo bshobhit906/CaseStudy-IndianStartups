{
 "cells": [
  {
   "cell_type": "markdown",
   "id": "ba4e19f8",
   "metadata": {},
   "source": [
    "## To find the Location best suited to get Startup Funding\n"
   ]
  },
  {
   "cell_type": "code",
   "execution_count": 21,
   "id": "e77215f0",
   "metadata": {
    "scrolled": false
   },
   "outputs": [
    {
     "name": "stdout",
     "output_type": "stream",
     "text": [
      "NCR 709\n",
      "Bangalore 635\n",
      "Mumbai 449\n"
     ]
    },
    {
     "name": "stderr",
     "output_type": "stream",
     "text": [
      "<ipython-input-21-f3c520304f3c>:16: SettingWithCopyWarning: \n",
      "A value is trying to be set on a copy of a slice from a DataFrame\n",
      "\n",
      "See the caveats in the documentation: https://pandas.pydata.org/pandas-docs/stable/user_guide/indexing.html#returning-a-view-versus-a-copy\n",
      "  df.dropna(inplace = True)\n",
      "<ipython-input-21-f3c520304f3c>:17: SettingWithCopyWarning: \n",
      "A value is trying to be set on a copy of a slice from a DataFrame.\n",
      "Try using .loc[row_indexer,col_indexer] = value instead\n",
      "\n",
      "See the caveats in the documentation: https://pandas.pydata.org/pandas-docs/stable/user_guide/indexing.html#returning-a-view-versus-a-copy\n",
      "  df[\"CityLocation\"] = df[\"CityLocation\"].apply(separate)\n",
      "C:\\Users\\shubh\\anaconda3\\lib\\site-packages\\pandas\\core\\series.py:4509: SettingWithCopyWarning: \n",
      "A value is trying to be set on a copy of a slice from a DataFrame\n",
      "\n",
      "See the caveats in the documentation: https://pandas.pydata.org/pandas-docs/stable/user_guide/indexing.html#returning-a-view-versus-a-copy\n",
      "  return super().replace(\n"
     ]
    },
    {
     "data": {
      "image/png": "[encoded data removed]",
      "text/plain": [
       "<Figure size 432x288 with 1 Axes>"
      ]
     },
     "metadata": {},
     "output_type": "display_data"
    }
   ],
   "source": [
    "import pandas as pd\n",
    "import numpy as np\n",
    "import matplotlib.pyplot as plt\n",
    "\n",
    "\n",
    "def separate(city):\n",
    "    arr = city.split(\"/\")\n",
    "    answer = arr[0].strip()\n",
    "    return answer\n",
    "\n",
    "## We can replace the locations Delhi, New Delhi, Gurgaon, Noida collectively as NCR then calculate the number of fundings\n",
    "## recieved. \n",
    "\n",
    "data = pd.read_csv(\"startup_funding.csv\")\n",
    "df = data[[\"CityLocation\"]]\n",
    "df.dropna(inplace = True)\n",
    "df[\"CityLocation\"] = df[\"CityLocation\"].apply(separate)\n",
    "df[\"CityLocation\"].replace(\"Delhi\", \"NCR\", inplace = True)\n",
    "df[\"CityLocation\"].replace(\"New Delhi\", \"NCR\", inplace = True)\n",
    "df[\"CityLocation\"].replace(\"Gurgaon\", \"NCR\", inplace = True)\n",
    "df[\"CityLocation\"].replace(\"Noida\", \"NCR\", inplace = True)\n",
    "df[\"CityLocation\"].replace(\"bangalore\", \"Bangalore\", inplace = True)\n",
    "arr = df[\"CityLocation\"].value_counts()\n",
    "\n",
    "for i in range(3) :\n",
    "    print(arr.index[i], arr.values[i])\n",
    "    \n",
    "location = [arr.index[i] for i in range(3)]\n",
    "fundings = [arr.values[i] for i in range(3)]\n",
    "plt.pie(fundings, labels = location, explode = [0.1, 0.1, 0.1], autopct=\"%.2f%%\")\n",
    "plt.show()"
   ]
  },
  {
   "cell_type": "markdown",
   "id": "5c82dd50",
   "metadata": {},
   "source": [
    "# Top 5 investors who have invested maximum number of times"
   ]
  },
  {
   "cell_type": "code",
   "execution_count": 20,
   "id": "45ac1acd",
   "metadata": {},
   "outputs": [
    {
     "name": "stdout",
     "output_type": "stream",
     "text": [
      "SequoiaCapital 64\n",
      "AccelPartners 52\n",
      "KalaariCapital 44\n",
      "IndianAngelNetwork 40\n",
      "SAIFPartners 40\n"
     ]
    },
    {
     "name": "stderr",
     "output_type": "stream",
     "text": [
      "<ipython-input-20-52fb343103fb>:16: SettingWithCopyWarning: \n",
      "A value is trying to be set on a copy of a slice from a DataFrame.\n",
      "Try using .loc[row_indexer,col_indexer] = value instead\n",
      "\n",
      "See the caveats in the documentation: https://pandas.pydata.org/pandas-docs/stable/user_guide/indexing.html#returning-a-view-versus-a-copy\n",
      "  df[\"InvestorsName\"] = df[\"InvestorsName\"].apply(lambda x : str(x).replace(\" \",\"\"))\n",
      "<ipython-input-20-52fb343103fb>:17: SettingWithCopyWarning: \n",
      "A value is trying to be set on a copy of a slice from a DataFrame.\n",
      "Try using .loc[row_indexer,col_indexer] = value instead\n",
      "\n",
      "See the caveats in the documentation: https://pandas.pydata.org/pandas-docs/stable/user_guide/indexing.html#returning-a-view-versus-a-copy\n",
      "  df[\"InvestorsName\"] = df[\"InvestorsName\"].apply(sep)\n"
     ]
    },
    {
     "data": {
      "image/png": "[encoded data removed]",
      "text/plain": [
       "<Figure size 432x288 with 1 Axes>"
      ]
     },
     "metadata": {
      "needs_background": "light"
     },
     "output_type": "display_data"
    }
   ],
   "source": [
    "import pandas as pd\n",
    "import numpy as np\n",
    "\n",
    "d = {}\n",
    "\n",
    "def sep(obj) :\n",
    "    arr = obj.split(\",\")\n",
    "    for ele in arr : \n",
    "        d[ele] = d.get(ele, 0) + 1\n",
    "        \n",
    "    return arr[0].strip()\n",
    "    \n",
    "    \n",
    "data = pd.read_csv(\"startup_funding.csv\", encoding = \"utf8\")\n",
    "df = data[[\"InvestorsName\"]]\n",
    "df[\"InvestorsName\"] = df[\"InvestorsName\"].apply(lambda x : str(x).replace(\" \",\"\"))\n",
    "df[\"InvestorsName\"] = df[\"InvestorsName\"].apply(sep)\n",
    "\n",
    "x = []\n",
    "y = []\n",
    "dataf = pd.DataFrame(list(d.values()), list(d.keys()))\n",
    "dataf = dataf.sort_values(by = [0], ascending = False)\n",
    "for i in range(5) :\n",
    "    print(dataf.index[i], dataf.values[i][0])\n",
    "    x.append(dataf.index[i])\n",
    "    y.append(dataf.values[i][0])\n",
    "    \n",
    "plt.bar(x, y, width = 0.8)\n",
    "plt.xticks(rotation = 40)\n",
    "plt.xlabel(\"Investors Name\")\n",
    "plt.ylabel(\"Number of Fundings\")\n",
    "plt.grid()\n",
    "plt.show()"
   ]
  },
  {
   "cell_type": "markdown",
   "id": "9bf51590",
   "metadata": {},
   "source": [
    "# Top 5 investors who invested maximum number of times (different Startups)"
   ]
  },
  {
   "cell_type": "code",
   "execution_count": 23,
   "id": "a5b92620",
   "metadata": {},
   "outputs": [
    {
     "name": "stdout",
     "output_type": "stream",
     "text": [
      "SequoiaCapital 48\n",
      "AccelPartners 47\n",
      "KalaariCapital 41\n",
      "IndianAngelNetwork 40\n",
      "BlumeVentures 36\n"
     ]
    },
    {
     "name": "stderr",
     "output_type": "stream",
     "text": [
      "<ipython-input-23-d512fe5ea259>:6: SettingWithCopyWarning: \n",
      "A value is trying to be set on a copy of a slice from a DataFrame\n",
      "\n",
      "See the caveats in the documentation: https://pandas.pydata.org/pandas-docs/stable/user_guide/indexing.html#returning-a-view-versus-a-copy\n",
      "  df.dropna(inplace = True)\n",
      "C:\\Users\\shubh\\anaconda3\\lib\\site-packages\\pandas\\core\\series.py:4509: SettingWithCopyWarning: \n",
      "A value is trying to be set on a copy of a slice from a DataFrame\n",
      "\n",
      "See the caveats in the documentation: https://pandas.pydata.org/pandas-docs/stable/user_guide/indexing.html#returning-a-view-versus-a-copy\n",
      "  return super().replace(\n",
      "<ipython-input-23-d512fe5ea259>:20: SettingWithCopyWarning: \n",
      "A value is trying to be set on a copy of a slice from a DataFrame.\n",
      "Try using .loc[row_indexer,col_indexer] = value instead\n",
      "\n",
      "See the caveats in the documentation: https://pandas.pydata.org/pandas-docs/stable/user_guide/indexing.html#returning-a-view-versus-a-copy\n",
      "  df[\"InvestorsName\"] = df[\"InvestorsName\"].apply(lambda x : str(x).replace(\" \",\"\"))\n"
     ]
    },
    {
     "data": {
      "image/png": "[encoded data removed]",
      "text/plain": [
       "<Figure size 432x288 with 1 Axes>"
      ]
     },
     "metadata": {
      "needs_background": "light"
     },
     "output_type": "display_data"
    }
   ],
   "source": [
    "import pandas as pd\n",
    "import numpy as np\n",
    "\n",
    "data = pd.read_csv(\"startup_funding.csv\", encoding = \"utf8\")\n",
    "df = data[[\"StartupName\", \"InvestorsName\"]]\n",
    "df.dropna(inplace = True)\n",
    "\n",
    "## Handling name errors of Startups in the data set \n",
    "df[\"StartupName\"].replace(\"Ola Cabs\", \"Ola\", inplace = True)\n",
    "df[\"StartupName\"].replace(\"Olacabs\", \"Ola\", inplace = True)\n",
    "df[\"StartupName\"].replace(\"Flipkart.com\", \"Flipkart\", inplace = True)\n",
    "df[\"StartupName\"].replace(\"Oyo Rooms\", \"Oyo\", inplace = True)\n",
    "df[\"StartupName\"].replace(\"OyoRooms\", \"Oyo\", inplace = True)\n",
    "df[\"StartupName\"].replace(\"Oyorooms\", \"Oyo\", inplace = True)\n",
    "df[\"StartupName\"].replace(\"OYO Rooms\", \"Oyo\", inplace = True)\n",
    "df[\"StartupName\"].replace(\"Paytm Marketplace\", \"Paytm\", inplace = True)\n",
    "\n",
    "## It was observered that during the split of the name many investors had a space at the end.\n",
    "## So we removed all the spaces. The name of Investors is readable and result is more accurate.\n",
    "df[\"InvestorsName\"] = df[\"InvestorsName\"].apply(lambda x : str(x).replace(\" \",\"\"))\n",
    "\n",
    "\n",
    "inv = np.array(df.InvestorsName)\n",
    "stname = np.array(df.StartupName)\n",
    "check = {}\n",
    "d = {}\n",
    "\n",
    "for i in range(len(inv)):\n",
    "    arr = inv[i].split(\",\")\n",
    "    for ele in arr :\n",
    "        if not ((stname[i] + ele) in check.keys()) :\n",
    "            d[ele] = d.get(ele, 0) + 1\n",
    "            \n",
    "        check[stname[i] + ele] = 1\n",
    "        \n",
    "dataf = pd.DataFrame(list(d.values()), list(d.keys()))\n",
    "dataf = dataf.sort_values(by = [0], ascending = False)\n",
    "count = 0\n",
    "x = []\n",
    "y = []\n",
    "for i in range(10) :\n",
    "## Empty string was inncluded and Handled in the following manner\n",
    "    if dataf.index[i] != \"\" :\n",
    "        print(dataf.index[i], dataf.values[i][0])\n",
    "        count += 1\n",
    "        x.append(dataf.index[i])\n",
    "        y.append(dataf.values[i][0])\n",
    "        \n",
    "    if count == 5 :\n",
    "        break\n",
    "plt.bar(x, y, width = 0.8)\n",
    "plt.xticks(rotation = 40)\n",
    "plt.xlabel(\"Investors Name\")\n",
    "plt.ylabel(\"Number of Fundings\")\n",
    "plt.grid()\n",
    "plt.show()"
   ]
  },
  {
   "cell_type": "markdown",
   "id": "e3960744",
   "metadata": {},
   "source": [
    "# Top 5 Investors with prefered Funding Type (Initially)"
   ]
  },
  {
   "cell_type": "code",
   "execution_count": 26,
   "id": "d56076cc",
   "metadata": {},
   "outputs": [
    {
     "name": "stdout",
     "output_type": "stream",
     "text": [
      "IndianAngelNetwork 33\n",
      "RajanAnandan 22\n",
      "LetsVenture 16\n",
      "AnupamMittal 16\n",
      "KunalShah 14\n"
     ]
    },
    {
     "name": "stderr",
     "output_type": "stream",
     "text": [
      "<ipython-input-26-c0446728afe4>:6: SettingWithCopyWarning: \n",
      "A value is trying to be set on a copy of a slice from a DataFrame\n",
      "\n",
      "See the caveats in the documentation: https://pandas.pydata.org/pandas-docs/stable/user_guide/indexing.html#returning-a-view-versus-a-copy\n",
      "  df.dropna(inplace = True)\n",
      "C:\\Users\\shubh\\anaconda3\\lib\\site-packages\\pandas\\core\\series.py:4509: SettingWithCopyWarning: \n",
      "A value is trying to be set on a copy of a slice from a DataFrame\n",
      "\n",
      "See the caveats in the documentation: https://pandas.pydata.org/pandas-docs/stable/user_guide/indexing.html#returning-a-view-versus-a-copy\n",
      "  return super().replace(\n"
     ]
    },
    {
     "data": {
      "image/png": "[encoded data removed]",
      "text/plain": [
       "<Figure size 432x288 with 1 Axes>"
      ]
     },
     "metadata": {
      "needs_background": "light"
     },
     "output_type": "display_data"
    }
   ],
   "source": [
    "import pandas as pd\n",
    "import numpy as np\n",
    "\n",
    "data = pd.read_csv(\"startup_funding.csv\", encoding = \"utf8\")\n",
    "df = data[[\"StartupName\", \"InvestorsName\", \"InvestmentType\"]]\n",
    "df.dropna(inplace = True)\n",
    "\n",
    "# Handling errors in Investment Type\n",
    "df[\"InvestmentType\"].replace(\"SeedFunding\", \"Seed Funding\", inplace = True)\n",
    "df[\"InvestmentType\"].replace(\"PrivateEquity\", \"Private Equity\", inplace = True)\n",
    "df[\"InvestmentType\"].replace(\"Crowd funding\", \"Crowd Funding\", inplace = True)\n",
    "\n",
    "df = df[(df.InvestmentType == \"Seed Funding\") | (df.InvestmentType == \"Crowd Funding\")]\n",
    "\n",
    "## Handling spelling errors of Startups in the data set \n",
    "df[\"StartupName\"].replace(\"Ola Cabs\", \"Ola\", inplace = True)\n",
    "df[\"StartupName\"].replace(\"Olacabs\", \"Ola\", inplace = True)\n",
    "df[\"StartupName\"].replace(\"Flipkart.com\", \"Flipkart\", inplace = True)\n",
    "df[\"StartupName\"].replace(\"Oyo Rooms\", \"Oyo\", inplace = True)\n",
    "df[\"StartupName\"].replace(\"OyoRooms\", \"Oyo\", inplace = True)\n",
    "df[\"StartupName\"].replace(\"Oyorooms\", \"Oyo\", inplace = True)\n",
    "df[\"StartupName\"].replace(\"OYO Rooms\", \"Oyo\", inplace = True)\n",
    "df[\"StartupName\"].replace(\"Paytm Marketplace\", \"Paytm\", inplace = True)\n",
    "\n",
    "## It was observered that during the split of the name many investors had a space at the end.\n",
    "## So we removed all the spaces. The name of Investors is readable and result is more accurate.\n",
    "df[\"InvestorsName\"] = df[\"InvestorsName\"].apply(lambda x : str(x).replace(\" \",\"\"))\n",
    "\n",
    "\n",
    "inv = np.array(df.InvestorsName)\n",
    "stname = np.array(df.StartupName)\n",
    "check = {}\n",
    "d = {}\n",
    "\n",
    "for i in range(len(inv)):\n",
    "    arr = inv[i].split(\",\")\n",
    "    for ele in arr :\n",
    "        if not ((stname[i] + ele) in check.keys()) :\n",
    "            d[ele] = d.get(ele, 0) + 1\n",
    "            \n",
    "        check[stname[i] + ele] = 1\n",
    "        \n",
    "dataf = pd.DataFrame(list(d.values()), list(d.keys()))\n",
    "dataf = dataf.sort_values(by = [0], ascending = False)\n",
    "count = 0\n",
    "x = []\n",
    "y = []\n",
    "for i in range(10) :\n",
    "## Empty string was inncluded and Handled in the following manner\n",
    "    if dataf.index[i] != \"\" and dataf.index[i] != \"UndisclosedInvestors\" and dataf.index[i] != \"Undisclosedinvestors\" :\n",
    "        print(dataf.index[i], dataf.values[i][0])\n",
    "        count += 1\n",
    "        x.append(dataf.index[i])\n",
    "        y.append(dataf.values[i][0])\n",
    "        \n",
    "    if count == 5 :\n",
    "        break\n",
    "plt.bar(x, y, width = 0.8)\n",
    "plt.xticks(rotation = 40)\n",
    "plt.xlabel(\"Investors Name\")\n",
    "plt.ylabel(\"Number of Fundings\")\n",
    "plt.grid()\n",
    "plt.show()"
   ]
  },
  {
   "cell_type": "markdown",
   "id": "fd6f516c",
   "metadata": {},
   "source": [
    "# Top 5 Investors with prefered type of Funding (Later Stages)"
   ]
  },
  {
   "cell_type": "code",
   "execution_count": 28,
   "id": "fda52479",
   "metadata": {},
   "outputs": [
    {
     "name": "stdout",
     "output_type": "stream",
     "text": [
      "SequoiaCapital 45\n",
      "AccelPartners 42\n",
      "KalaariCapital 35\n",
      "BlumeVentures 27\n",
      "SAIFPartners 23\n"
     ]
    },
    {
     "name": "stderr",
     "output_type": "stream",
     "text": [
      "<ipython-input-28-cfa6489238cf>:6: SettingWithCopyWarning: \n",
      "A value is trying to be set on a copy of a slice from a DataFrame\n",
      "\n",
      "See the caveats in the documentation: https://pandas.pydata.org/pandas-docs/stable/user_guide/indexing.html#returning-a-view-versus-a-copy\n",
      "  df.dropna(inplace = True)\n",
      "C:\\Users\\shubh\\anaconda3\\lib\\site-packages\\pandas\\core\\series.py:4509: SettingWithCopyWarning: \n",
      "A value is trying to be set on a copy of a slice from a DataFrame\n",
      "\n",
      "See the caveats in the documentation: https://pandas.pydata.org/pandas-docs/stable/user_guide/indexing.html#returning-a-view-versus-a-copy\n",
      "  return super().replace(\n"
     ]
    },
    {
     "data": {
      "image/png": "[encoded data removed]",
      "text/plain": [
       "<Figure size 432x288 with 1 Axes>"
      ]
     },
     "metadata": {
      "needs_background": "light"
     },
     "output_type": "display_data"
    }
   ],
   "source": [
    "import pandas as pd\n",
    "import numpy as np\n",
    "\n",
    "data = pd.read_csv(\"startup_funding.csv\", encoding = \"utf8\")\n",
    "df = data[[\"StartupName\", \"InvestorsName\", \"InvestmentType\"]]\n",
    "df.dropna(inplace = True)\n",
    "\n",
    "# Handling errors in Investment Type\n",
    "df[\"InvestmentType\"].replace(\"SeedFunding\", \"Seed Funding\", inplace = True)\n",
    "df[\"InvestmentType\"].replace(\"PrivateEquity\", \"Private Equity\", inplace = True)\n",
    "df[\"InvestmentType\"].replace(\"Crowd funding\", \"Crowd Funding\", inplace = True)\n",
    "\n",
    "df = df[df.InvestmentType == \"Private Equity\"]\n",
    "\n",
    "## Handling spelling errors of Startups in the data set \n",
    "df[\"StartupName\"].replace(\"Ola Cabs\", \"Ola\", inplace = True)\n",
    "df[\"StartupName\"].replace(\"Olacabs\", \"Ola\", inplace = True)\n",
    "df[\"StartupName\"].replace(\"Flipkart.com\", \"Flipkart\", inplace = True)\n",
    "df[\"StartupName\"].replace(\"Oyo Rooms\", \"Oyo\", inplace = True)\n",
    "df[\"StartupName\"].replace(\"OyoRooms\", \"Oyo\", inplace = True)\n",
    "df[\"StartupName\"].replace(\"Oyorooms\", \"Oyo\", inplace = True)\n",
    "df[\"StartupName\"].replace(\"OYO Rooms\", \"Oyo\", inplace = True)\n",
    "df[\"StartupName\"].replace(\"Paytm Marketplace\", \"Paytm\", inplace = True)\n",
    "\n",
    "## It was observered that during the split of the name many investors had a space at the end.\n",
    "## So we removed all the spaces. The name of Investors is readable and result is more accurate.\n",
    "df[\"InvestorsName\"] = df[\"InvestorsName\"].apply(lambda x : str(x).replace(\" \",\"\"))\n",
    "\n",
    "\n",
    "inv = np.array(df.InvestorsName)\n",
    "stname = np.array(df.StartupName)\n",
    "check = {}\n",
    "d = {}\n",
    "\n",
    "for i in range(len(inv)):\n",
    "    arr = inv[i].split(\",\")\n",
    "    for ele in arr :\n",
    "        if not ((stname[i] + ele) in check.keys()) :\n",
    "            d[ele] = d.get(ele, 0) + 1\n",
    "            \n",
    "        check[stname[i] + ele] = 1\n",
    "        \n",
    "dataf = pd.DataFrame(list(d.values()), list(d.keys()))\n",
    "dataf = dataf.sort_values(by = [0], ascending = False)\n",
    "count = 0\n",
    "x = []\n",
    "y = []\n",
    "for i in range(10) :\n",
    "## Empty string was inncluded and Handled in the following manner\n",
    "    if dataf.index[i] != \"\" and dataf.index[i] != \"UndisclosedInvestors\" and dataf.index[i] != \"Undisclosedinvestors\" :\n",
    "        print(dataf.index[i], dataf.values[i][0])\n",
    "        count += 1\n",
    "        x.append(dataf.index[i])\n",
    "        y.append(dataf.values[i][0])\n",
    "        \n",
    "    if count == 5 :\n",
    "        break\n",
    "plt.bar(x, y, width = 0.8)\n",
    "plt.xticks(rotation = 40)\n",
    "plt.xlabel(\"Investors Name\")\n",
    "plt.ylabel(\"Number of Fundings\")\n",
    "plt.grid()\n",
    "plt.show()"
   ]
  }
 ],
 "metadata": {
  "kernelspec": {
   "display_name": "Python 3 (ipykernel)",
   "language": "python",
   "name": "python3"
  },
  "language_info": {
   "codemirror_mode": {
    "name": "ipython",
    "version": 3
   },
   "file_extension": ".py",
   "mimetype": "text/x-python",
   "name": "python",
   "nbconvert_exporter": "python",
   "pygments_lexer": "ipython3",
   "version": "3.8.12"
  }
 },
 "nbformat": 4,
 "nbformat_minor": 5
}
